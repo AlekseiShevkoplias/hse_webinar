{
 "cells": [
  {
   "cell_type": "code",
   "execution_count": null,
   "metadata": {},
   "outputs": [],
   "source": [
    "from moviepy.editor import *\n",
    "from moviepy.video import *"
   ]
  },
  {
   "cell_type": "code",
   "execution_count": null,
   "metadata": {},
   "outputs": [],
   "source": [
    "audioclip = AudioFileClip(\"y2mate.com - GEORGE THOROGOOD Bad To The Bone__7VsoxT_FUY.mp3\").subclip(t_end=120)\n",
    "clip1 = VideoFile(\"y2mate.com - KCTV Documentary (HD)_ Kim Jong Un scales politically-symbolic Mount Paektu on horseback_oyeJ7kn4GZU_360p.mp4.crdownload\").subclip(t_end=60)\n",
    "clip2 = VideoFile(\"videoplayback.mp4\").subclip(t_start=10 ,t_end=70)\n"
   ]
  },
  {
   "cell_type": "code",
   "execution_count": null,
   "metadata": {},
   "outputs": [],
   "source": [
    "final_clip = concatenate_videoclips([clip1,clip2])\n",
    "final_clip = final_clip.set_audio(audioclip)\n",
    "final_clip.write_videofile('badkim.mp4')"
   ]
  }
 ],
 "metadata": {
  "kernelspec": {
   "display_name": "Python 3",
   "language": "python",
   "name": "python3"
  },
  "language_info": {
   "codemirror_mode": {
    "name": "ipython",
    "version": 3
   },
   "file_extension": ".py",
   "mimetype": "text/x-python",
   "name": "python",
   "nbconvert_exporter": "python",
   "pygments_lexer": "ipython3",
   "version": "3.6.5"
  }
 },
 "nbformat": 4,
 "nbformat_minor": 4
}
